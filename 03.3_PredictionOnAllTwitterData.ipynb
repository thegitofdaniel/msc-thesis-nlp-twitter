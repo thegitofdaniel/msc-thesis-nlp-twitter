{
 "cells": [
  {
   "cell_type": "markdown",
   "metadata": {},
   "source": [
    "# 3. Classifier Prediction on Twitter Data\n",
    "\n",
    "Daniel Ruiz, MSc in Data Science and Business Analytics (DSBA), Bocconi University\n",
    "\n",
    "Reference codes (alphabetically):\n",
    "\n",
    "## 3.1. Loading packages and creating folder"
   ]
  },
  {
   "cell_type": "code",
   "execution_count": 1,
   "metadata": {},
   "outputs": [],
   "source": [
    "# general\n",
    "from BOW import *\n",
    "import pandas as pd\n",
    "import numpy as np\n",
    "import pickle as pkl"
   ]
  },
  {
   "cell_type": "markdown",
   "metadata": {},
   "source": [
    "## 3.2. Prediction on All Tweets"
   ]
  },
  {
   "cell_type": "code",
   "execution_count": 19,
   "metadata": {},
   "outputs": [
    {
     "name": "stdout",
     "output_type": "stream",
     "text": [
      "br_embraer\n",
      "Test set size: 1407\n"
     ]
    }
   ],
   "source": [
    "my_companies = ['br_embraer',\n",
    "                'br_americanas',\n",
    "                'br_pontofrio',\n",
    "                'br_petrobras',\n",
    "                'br_bradesco',\n",
    "                'br_renner',\n",
    "                'br_gol',\n",
    "                'br_magazineluiza',\n",
    "                'br_itau',\n",
    "                'br_valor',\n",
    "                'us_abercrombie',\n",
    "                'us_boeing',\n",
    "                'us_beyondmeat',\n",
    "                'us_morganstanley',\n",
    "                'us_jpmorgan',\n",
    "                'us_exxonmobil',\n",
    "                'us_americanair',\n",
    "                'us_cocacola',\n",
    "                'us_tesla',\n",
    "                'us_wsj']\n",
    "\n",
    "for company in my_companies:\n",
    "\n",
    "    # load and filter data\n",
    "    print(company)\n",
    "    df = pd.read_pickle('Dataset_Twitter_Clean_03/'+company+'.pkl')\n",
    "    df = df[['snowball_stems','datetime','has_happy','has_sad']]\n",
    "    print('Test set size:',df.shape[0])\n",
    "\n",
    "    # classify -> noisy labels\n",
    "    df['noisy_pos'] = df.has_happy>df.has_sad\n",
    "\n",
    "    # classify -> classifier (logistic with info words)\n",
    "    if company[:2]=='us':\n",
    "        folder_clas='Classifiers/English/'\n",
    "    else:\n",
    "        folder_clas='Classifiers/Portuguese/'\n",
    "        \n",
    "    my_classifier = pkl.load(open(folder_clas+'skc_logistic_inf.sav', 'rb'))\n",
    "    df['stem_bow']=df.apply(lambda x: bag_of_words(x.snowball_stems), axis=1)\n",
    "    df['clas_pos']=df.apply(lambda x: my_classifier.classify(x.stem_bow), axis=1)\n",
    "\n",
    "    # select classification\n",
    "    df['use_classifier'] = df.has_happy==df.has_sad\n",
    "    df['final_pos'] = np.where(df.use_classifier==1,df.clas_pos,df.noisy_pos)\n",
    "\n",
    "    # reduce dataframe\n",
    "    df = df[['datetime','final_pos']]\n",
    "\n",
    "    #save\n",
    "    df.to_pickle('Dataset_TS_01/'+company+'.pkl')"
   ]
  }
 ],
 "metadata": {
  "kernelspec": {
   "display_name": "Python 3",
   "language": "python",
   "name": "python3"
  },
  "language_info": {
   "codemirror_mode": {
    "name": "ipython",
    "version": 3
   },
   "file_extension": ".py",
   "mimetype": "text/x-python",
   "name": "python",
   "nbconvert_exporter": "python",
   "pygments_lexer": "ipython3",
   "version": "3.7.4"
  }
 },
 "nbformat": 4,
 "nbformat_minor": 2
}
