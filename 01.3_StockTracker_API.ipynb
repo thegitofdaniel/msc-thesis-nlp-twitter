{
 "cells": [
  {
   "cell_type": "markdown",
   "metadata": {},
   "source": [
    "# 4. Getting financial data (API)\n",
    "\n",
    "Daniel Ruiz, MSc in Data Science and Business Analytics (DSBA), Bocconi University\n",
    "\n",
    "Reference codes (alphabetically):\n",
    "    \n",
    "    - https://github.com/addisonlynch/iexfinance/blob/master/README.rst\n",
    "    \n",
    "# USA = IEX\n",
    "## 4.1. Examples"
   ]
  },
  {
   "cell_type": "raw",
   "metadata": {},
   "source": [
    "from iexfinance.refdata import get_symbols\n",
    "\n",
    "symbols = get_symbols(output_format='pandas')\n",
    "\n",
    "symbols.exchange.unique()\n",
    "\n",
    "# exchanges available: ['NYS', 'PSE', 'NAS', 'ASE', 'BATS']"
   ]
  },
  {
   "cell_type": "markdown",
   "metadata": {},
   "source": [
    "from iexfinance.stocks import Stock\n",
    "\n",
    "mystock = Stock(\"TSLA\")\n",
    "\n",
    "mystock.get_quote()"
   ]
  },
  {
   "cell_type": "raw",
   "metadata": {},
   "source": [
    "date = datetime(2020, 1, 17)\n",
    "\n",
    "mystock = get_historical_intraday(\"TSLA\", date)\n",
    "\n",
    "mystock[0].values()"
   ]
  },
  {
   "cell_type": "markdown",
   "metadata": {},
   "source": [
    "## 4.2. Getting the data"
   ]
  },
  {
   "cell_type": "code",
   "execution_count": 2,
   "metadata": {},
   "outputs": [],
   "source": [
    "# import packages\n",
    "import csv\n",
    "from datetime import datetime\n",
    "from iexfinance.stocks import get_historical_intraday, get_historical_data\n",
    "\n",
    "# set companies, dates\n",
    "my_companies = [['us_abercrombie','ANF'],\n",
    "                ['us_boeing','BA'],\n",
    "                ['us_beyondmeat','BYND'],\n",
    "                ['us_morganstanley','MS'],\n",
    "                ['us_jpmorgan', 'JPM'],\n",
    "                ['us_exxonmobil','XOM'],\n",
    "                ['us_americanair','AAL'],\n",
    "                ['us_cocacola','KO'],\n",
    "                ['us_tesla','TSLA'],\n",
    "                ['us_wsj','NWSA']]\n",
    "start_date = datetime(2020, 1, 1)\n",
    "end_date = datetime.now().date()"
   ]
  },
  {
   "cell_type": "markdown",
   "metadata": {},
   "source": [
    "### 4.2.1 Intraday"
   ]
  },
  {
   "cell_type": "markdown",
   "metadata": {},
   "source": [
    "for company in my_companies:\n",
    "    \n",
    "    # Open/Create a file to append data\n",
    "    \n",
    "    minutes = get_historical_intraday(company[1], date)\n",
    "\n",
    "    with open(\"Dataset_IEX_01\\\\\"+company[0]+\".csv\", 'a', encoding=\"utf-8\") as csvFile:\n",
    "    \n",
    "        # Use csv writer\n",
    "        csvWriter = csv.writer(csvFile)\n",
    "        \n",
    "        for minute in minutes:\n",
    "            csvWriter.writerow(list(minute.values()))"
   ]
  },
  {
   "cell_type": "markdown",
   "metadata": {},
   "source": [
    "### 4.2.1 Daily"
   ]
  },
  {
   "cell_type": "code",
   "execution_count": 3,
   "metadata": {},
   "outputs": [
    {
     "name": "stdout",
     "output_type": "stream",
     "text": [
      "us_abercrombie\n",
      "us_boeing\n",
      "us_beyondmeat\n",
      "us_morganstanley\n",
      "us_jpmorgan\n",
      "us_exxonmobil\n",
      "us_americanair\n",
      "us_cocacola\n",
      "us_tesla\n",
      "us_wsj\n"
     ]
    }
   ],
   "source": [
    "for company in my_companies:\n",
    "    \n",
    "    days = get_historical_data(company[1],start_date,end_date)\n",
    "    print(company[0])\n",
    "\n",
    "    with open(\"Dataset_API_Daily\\\\\"+company[0]+\".csv\", 'w', encoding=\"utf-8\") as csvFile:\n",
    "    \n",
    "        # Use csv writer\n",
    "        csvWriter = csv.writer(csvFile)\n",
    "        \n",
    "        for day in days:\n",
    "            # ['date', 'open', 'high', 'low', 'close', 'volume']\n",
    "            csvWriter.writerow([day]+list(days[day].values()))"
   ]
  },
  {
   "cell_type": "markdown",
   "metadata": {},
   "source": [
    "# BRA = PYBOVESPA\n",
    "## 4.3. Examples\n",
    "http://www.b3.com.br/pt_br/market-data-e-indices/servicos-de-dados/market-data/historico/mercado-a-vista/series-historicas/"
   ]
  },
  {
   "cell_type": "code",
   "execution_count": 5,
   "metadata": {},
   "outputs": [],
   "source": [
    "# import packages\n",
    "import csv\n",
    "import pandas as pd\n",
    "\n",
    "# load saved dataset\n",
    "all_data = pd.read_csv('COTAHIST_A2020.txt',names=['raw'])\n",
    "all_data = all_data['raw'].tolist()\n",
    "\n",
    "# code positions\n",
    "pos0 = [1,3,11,13,25,28,40,50,53,57,70,83,96,109,122,135,148,153,171,189,202,203,211,218,231,243]\n",
    "pos0 = [pos-1 for pos in pos0]\n",
    "\n",
    "days_2020=[]\n",
    "\n",
    "# extract desired variables\n",
    "for data in all_data:\n",
    "    \n",
    "    sup=[]\n",
    "    for i in range(1,len(pos0)):\n",
    "        sup.append(data[pos0[i-1]:pos0[i]])\n",
    "    \n",
    "    if sup[1]=='COTAHIST':\n",
    "        continue\n",
    "    else:\n",
    "        # date, ticker, open, max, min, close,volume\n",
    "        sup = [sup[1],\n",
    "               sup[3].replace(\" \",\"\"),\n",
    "               int(sup[9]),\n",
    "               int(sup[10]),\n",
    "               int(sup[11]),\n",
    "               int(sup[13]),\n",
    "               int(sup[18])]\n",
    "        \n",
    "        sup[0]=sup[0][:4]+'-'+sup[0][4:6]+'-'+sup[0][6:8]\n",
    "                   \n",
    "        days_2020.append(sup)\n",
    "        \n",
    "# filter desired companies\n",
    "my_companies = [['br_embraer','EMBR3'],\n",
    "                ['br_americanas','LAME4'],\n",
    "                ['br_pontofrio','VVAR3'],\n",
    "                ['br_petrobras','PETR4'],\n",
    "                ['br_bradesco','BBDC4'],\n",
    "                ['br_itau','ITUB4'],\n",
    "                ['br_renner','LREN3'],\n",
    "                ['br_gol','GOLL4'],\n",
    "                ['br_magazineluiza','MGLU3']]\n",
    "\n",
    "keeps=[]\n",
    "dict_comp=dict(my_companies)\n",
    "dict_comp = {v: k for k, v in dict_comp.items()}\n",
    "\n",
    "for day in days_2020:\n",
    "    if day[1] in dict_comp:\n",
    "        keeps.append(day)\n",
    "\n",
    "for keep in keeps:\n",
    "    keep[1]=dict_comp[keep[1]]\n",
    "    \n",
    "    \n",
    "stocks = pd.DataFrame(keeps)\n",
    "stocks.columns = ['date','company','open','high','low','close','volume']\n",
    "stocks = stocks[['company','date', 'open', 'high', 'low', 'close', 'volume']]\n",
    "stocks = stocks.sort_values(['company','date'])\n",
    "\n",
    "for company in my_companies:\n",
    "\n",
    "    sup = stocks[stocks.company==company[0]]\n",
    "\n",
    "    with open(\"Dataset_API_Daily\\\\\"+company[0]+\".csv\", 'w', encoding=\"utf-8\") as csvFile:\n",
    "    \n",
    "        # Use csv writer\n",
    "        csvWriter = csv.writer(csvFile)\n",
    "        days = sup.values.tolist()\n",
    "        \n",
    "        for day in days:\n",
    "            csvWriter.writerow(day[1:])"
   ]
  }
 ],
 "metadata": {
  "kernelspec": {
   "display_name": "Python 3",
   "language": "python",
   "name": "python3"
  },
  "language_info": {
   "codemirror_mode": {
    "name": "ipython",
    "version": 3
   },
   "file_extension": ".py",
   "mimetype": "text/x-python",
   "name": "python",
   "nbconvert_exporter": "python",
   "pygments_lexer": "ipython3",
   "version": "3.7.4"
  }
 },
 "nbformat": 4,
 "nbformat_minor": 2
}
