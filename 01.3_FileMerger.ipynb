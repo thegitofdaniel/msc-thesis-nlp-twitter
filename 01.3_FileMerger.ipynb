{
 "cells": [
  {
   "cell_type": "markdown",
   "metadata": {},
   "source": [
    "# 1. Merge CSVs of the Same Company\n",
    "\n",
    "Daniel Ruiz, MSc in Data Science and Business Analytics (DSBA), Bocconi University\n",
    "\n",
    "Reference codes (alphabetically):\n",
    "\n",
    "## 1.1. Running the code"
   ]
  },
  {
   "cell_type": "code",
   "execution_count": 1,
   "metadata": {},
   "outputs": [
    {
     "name": "stdout",
     "output_type": "stream",
     "text": [
      "(956831, 5)\n"
     ]
    }
   ],
   "source": [
    "# import packages\n",
    "import pandas as pd\n",
    "\n",
    "# merge files\n",
    "folder = 'Dataset_Twitter/'\n",
    "\n",
    "file1 = pd.read_csv(folder+'us_wsj.csv')\n",
    "file1.columns = ['text','id','date','user','followers']\n",
    "file1 = file1.drop_duplicates('id')\n",
    "print(file1.shape)"
   ]
  },
  {
   "cell_type": "code",
   "execution_count": 2,
   "metadata": {},
   "outputs": [
    {
     "name": "stdout",
     "output_type": "stream",
     "text": [
      "(1005812, 5)\n"
     ]
    }
   ],
   "source": [
    "file2 = pd.read_csv(folder+'us_wsj_01.csv')\n",
    "file2.columns = ['text','id','date','user','followers']\n",
    "file2 = file2.drop_duplicates('id')\n",
    "print(file2.shape)"
   ]
  },
  {
   "cell_type": "code",
   "execution_count": 3,
   "metadata": {},
   "outputs": [
    {
     "name": "stdout",
     "output_type": "stream",
     "text": [
      "(1962643, 5)\n"
     ]
    }
   ],
   "source": [
    "merged = pd.concat([file1, file2])\n",
    "print(merged.shape)"
   ]
  },
  {
   "cell_type": "code",
   "execution_count": 4,
   "metadata": {},
   "outputs": [
    {
     "name": "stdout",
     "output_type": "stream",
     "text": [
      "(1962643, 5)\n"
     ]
    }
   ],
   "source": [
    "merged.columns = ['text','id','date','user','followers']\n",
    "#merged = merged.drop_duplicates('id')\n",
    "print(merged.shape)"
   ]
  },
  {
   "cell_type": "code",
   "execution_count": 5,
   "metadata": {},
   "outputs": [],
   "source": [
    "merged = merged[merged.id!=1249859590105239552]"
   ]
  },
  {
   "cell_type": "code",
   "execution_count": 6,
   "metadata": {},
   "outputs": [],
   "source": [
    "merged.to_csv(folder+'us_wsj_merged.csv', index=False, header=False)"
   ]
  }
 ],
 "metadata": {
  "kernelspec": {
   "display_name": "Python 3",
   "language": "python",
   "name": "python3"
  },
  "language_info": {
   "codemirror_mode": {
    "name": "ipython",
    "version": 3
   },
   "file_extension": ".py",
   "mimetype": "text/x-python",
   "name": "python",
   "nbconvert_exporter": "python",
   "pygments_lexer": "ipython3",
   "version": "3.7.4"
  }
 },
 "nbformat": 4,
 "nbformat_minor": 2
}
