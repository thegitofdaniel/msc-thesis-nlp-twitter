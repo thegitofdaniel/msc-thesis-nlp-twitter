{
 "cells": [
  {
   "cell_type": "markdown",
   "metadata": {},
   "source": [
    "# 1. Extracting Kaggle datasets\n",
    "\n",
    "Daniel Ruiz, MSc in Data Science and Business Analytics (DSBA), Bocconi University\n",
    "\n",
    "Reference codes (alphabetically):\n",
    "- https://www.kaggle.com/augustop/portuguese-tweets-for-sentiment-analysis\n",
    "- https://www.kaggle.com/kazanova/sentiment140"
   ]
  },
  {
   "cell_type": "code",
   "execution_count": 1,
   "metadata": {},
   "outputs": [],
   "source": [
    "# import packages\n",
    "\n",
    "import pandas as pd"
   ]
  },
  {
   "cell_type": "markdown",
   "metadata": {},
   "source": [
    "## English"
   ]
  },
  {
   "cell_type": "code",
   "execution_count": 2,
   "metadata": {},
   "outputs": [],
   "source": [
    "company= ['EnglishTweets','@ENGLISH_TWEETS','#ENGLISH_TWEETS']\n",
    "df = pd.read_csv('Dataset_Kaggle\\\\Kaggle_English\\\\'+company[0]+'.csv',\n",
    "                 header=None,index_col=None,encoding='ANSI')\n",
    "\n",
    "df.columns = ['sentiment_pos','id','datetime','query','user_name','text']\n",
    "df['user_followers']=1000\n",
    "df = df[['text','id','datetime','user_name','user_followers','sentiment_pos','query']]\n",
    "df.sentiment_pos = df.sentiment_pos//4\n",
    "\n",
    "# add columns -> the values are only so the lines are not excluded\n",
    "\n",
    "df.to_csv('Dataset_Twitter\\\\us_EnglishTweets.csv',index=None,header=False,encoding='utf-8')"
   ]
  },
  {
   "cell_type": "markdown",
   "metadata": {},
   "source": [
    "## Portuguese"
   ]
  },
  {
   "cell_type": "code",
   "execution_count": 3,
   "metadata": {},
   "outputs": [],
   "source": [
    "# opens file, 'converts' it to our framework\n",
    "df = pd.read_csv('Dataset_Kaggle\\\\Kaggle_Portuguese\\\\TrainingDatasets\\\\Train500.csv',sep=';')\n",
    "    \n",
    "# add columns -> the values are only so the lines are not excluded\n",
    "df['user_name'] = '@PORTUGUESE_TWEETS'\n",
    "df['user_followers'] = '1000'\n",
    "\n",
    "# reorder, rename columns\n",
    "df = df[['tweet_text','id','tweet_date','user_name','user_followers','sentiment','query_used']]\n",
    "df.columns = [['text','id','datetime','user_name','user_followers','sentiment_pos','query_used']]\n",
    "\n",
    "# save\n",
    "df.to_csv('Dataset_Twitter\\\\br_PortugueseTweets.csv',index=None,header=False)"
   ]
  }
 ],
 "metadata": {
  "kernelspec": {
   "display_name": "Python 3",
   "language": "python",
   "name": "python3"
  },
  "language_info": {
   "codemirror_mode": {
    "name": "ipython",
    "version": 3
   },
   "file_extension": ".py",
   "mimetype": "text/x-python",
   "name": "python",
   "nbconvert_exporter": "python",
   "pygments_lexer": "ipython3",
   "version": "3.7.4"
  }
 },
 "nbformat": 4,
 "nbformat_minor": 2
}
