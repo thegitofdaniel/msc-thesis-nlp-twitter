{
 "cells": [
  {
   "cell_type": "markdown",
   "metadata": {},
   "source": [
    "# 4. Getting financial data\n",
    "\n",
    "Daniel Ruiz, MSc in Data Science and Business Analytics (DSBA), Bocconi University\n",
    "\n",
    "Reference codes:"
   ]
  },
  {
   "cell_type": "code",
   "execution_count": 1,
   "metadata": {},
   "outputs": [],
   "source": [
    "# import packages\n",
    "import csv\n",
    "import time\n",
    "\n",
    "# chromedriver (driver and chrome should be of the same version)\n",
    "# https://chromedriver.chromium.org/downloads\n",
    "from selenium import webdriver\n",
    "\n",
    "# parser\n",
    "from bs4 import BeautifulSoup"
   ]
  },
  {
   "cell_type": "code",
   "execution_count": 2,
   "metadata": {},
   "outputs": [],
   "source": [
    "def convert_time_15(date):\n",
    "\n",
    "    clock, half, dayofweek, month, day = date.split(' ')\n",
    "    hh, mm = clock.split(':')\n",
    "\n",
    "    hh = int(hh)\n",
    "    if half=='PM' and hh!= 12:\n",
    "        hh+=12\n",
    "    hh = str(hh)\n",
    "    if len(hh)==1:\n",
    "        hh='0'+hh\n",
    "\n",
    "    if len(day)==1:\n",
    "        day=\"0\"+day\n",
    "\n",
    "    str_to_num = {'Jan':'01','Feb':'02','Mar':'03',\n",
    "                  'Apr':'04','May':'05','Jun':'06',\n",
    "                  'Jul':'07','Aug':'08','Sep':'09',\n",
    "                  'Oct':'10','Nov':'11','Dec':'12'}\n",
    "\n",
    "    return \"2020-\"+str_to_num[month]+\"-\"+day+\" \"+hh+\":\"+mm+\":00\""
   ]
  },
  {
   "cell_type": "code",
   "execution_count": 3,
   "metadata": {},
   "outputs": [],
   "source": [
    "def StockTracker_15(sup, driver = None):\n",
    "    \n",
    "    # sup format = [folder name, url]\n",
    "    # date format = \"2020-01-17\"\n",
    "    \n",
    "    # print stock\n",
    "    print(sup[0])\n",
    "    \n",
    "    # open chrome driven\n",
    "    if driver == None:\n",
    "        driver = webdriver.Chrome(executable_path=r'C:\\Users\\drr19\\Desktop\\chromedriver.exe')\n",
    "    \n",
    "    # open page, wait loading, scroll dow, and get content\n",
    "    driver.get(sup[1])\n",
    "    time.sleep(5)\n",
    "    driver.find_element_by_xpath(\"//*[@id='heropanechart-mode-selector']/div/div/div[2]/button\").click()\n",
    "    time.sleep(10)\n",
    "    driver.execute_script(\"window.scrollTo(0, document.body.scrollHeight);\")\n",
    "    content = driver.page_source\n",
    "    \n",
    "    # parsing the content\n",
    "\n",
    "    soup = BeautifulSoup(content, \"lxml\")\n",
    "\n",
    "    # extracting the variables\n",
    "    minutes = soup.find(\"div\", {\"class\":\"historicalpricestable\"})\n",
    "    \n",
    "    timms = minutes.find_all(\"li\", {\"class\":\"rowvalue date\"})\n",
    "    highs = minutes.find_all(\"li\", {\"class\":\"rowvalue high\"})\n",
    "    lowws = minutes.find_all(\"li\", {\"class\":\"rowvalue low\"})\n",
    "    opees = minutes.find_all(\"li\", {\"class\":\"rowvalue open\"})\n",
    "    closs = minutes.find_all(\"li\", {\"class\":\"rowvalue close\"})\n",
    "    volus = minutes.find_all(\"li\", {\"class\":\"rowvalue volume\"})\n",
    "\n",
    "    # converting to list\n",
    "    \n",
    "    datas = []\n",
    "\n",
    "    for timm, high, loww, opee, clos, volu in zip(timms,highs,lowws,opees,closs,volus):\n",
    "        datas.append([convert_time_15(timm.text),\n",
    "                      high.text,\n",
    "                      loww.text,\n",
    "                      opee.text,\n",
    "                      clos.text,\n",
    "                      volu.text.replace(\",\",\".\")])\n",
    "\n",
    "    # saving as csv\n",
    "        \n",
    "    for data in datas:\n",
    "        with open('Dataset_MSN_15\\\\'+sup[0]+'.csv', \"a\", encoding=\"utf-8\") as csvFile:\n",
    "            \n",
    "            writer = csv.writer(csvFile)\n",
    "            writer.writerow(data)    "
   ]
  },
  {
   "cell_type": "code",
   "execution_count": 4,
   "metadata": {},
   "outputs": [],
   "source": [
    "my_companies = [['br_embraer','https://www.msn.com/en-us/money/stockdetails/history/bsp-embr3/fi-apmhnm'], #0\n",
    "                ['br_americanas','https://www.msn.com/en-us/money/stockdetails/history/bsp-lame4/fi-apmupr'], #1\n",
    "                ['br_pontofrio','https://www.msn.com/en-us/money/stockdetails/history/bsp-vvar3/fi-apnla2'], #2\n",
    "                ['br_petrobras','https://www.msn.com/en-us/money/stockdetails/history/bsp-petr4/fi-apn4gh'], #3\n",
    "                ['br_bradesco','https://www.msn.com/en-us/money/stockdetails/history/bsp-bbdc4/fi-aplym7'], #4\n",
    "                ['br_itau','https://www.msn.com/en-us/money/stockdetails/history/bsp-itub4/fi-apmscw'], #5\n",
    "                ['br_renner','https://www.msn.com/en-us/money/stockdetails/history/bsp-lren3/fi-apmvxm'], #6\n",
    "                ['br_gol','https://www.msn.com/en-us/money/stockdetails/history/bsp-goll4/fi-apmoa2'], #7\n",
    "                ['br_magazineluiza','https://www.msn.com/en-us/money/stockdetails/history/bsp-mglu3/fi-apmxnm'], #8\n",
    "                ['us_abercrombie','https://www.msn.com/en-us/money/stockdetails/history/nys-anf/fi-a1nikr'], #10\n",
    "                ['us_boeing','https://www.msn.com/en-us/money/stockdetails/history/nys-ba/fi-a1o4ec'], #11\n",
    "                ['us_beyondmeat','https://www.msn.com/en-us/money/stockdetails/history/nas-bynd/fi-bpocw7'], #12\n",
    "                ['us_morganstanley','https://www.msn.com/en-us/money/stockdetails/history/nys-ms/fi-a1xyjc'], #13\n",
    "                ['us_jpmorgan', 'https://www.msn.com/en-us/money/stockdetails/history/nys-jpm/fi-a1waa2'], #14\n",
    "                ['us_exxonmobil','https://www.msn.com/en-us/money/stockdetails/history/nys-xom/fi-a269ec'], #15\n",
    "                ['us_americanair','https://www.msn.com/en-us/money/stockdetails/history/nas-aal/fi-a1moa2'], #16\n",
    "                ['us_cocacola','https://www.msn.com/en-us/money/stockdetails/history/nys-ko/fi-a1wljc'], #17\n",
    "                ['us_tesla','https://www.msn.com/en-us/money/stockdetails/history/nas-tsla/fi-a24kar'], #18\n",
    "                ['us_wsj','https://www.msn.com/en-us/money/stockdetails/history/nas-nws/fi-a1yx6h']] #19"
   ]
  },
  {
   "cell_type": "code",
   "execution_count": 8,
   "metadata": {},
   "outputs": [
    {
     "name": "stdout",
     "output_type": "stream",
     "text": [
      "br_magazineluiza\n",
      "us_abercrombie\n",
      "us_boeing\n",
      "us_beyondmeat\n",
      "us_morganstanley\n",
      "us_jpmorgan\n",
      "us_exxonmobil\n",
      "us_americanair\n",
      "us_cocacola\n",
      "us_tesla\n",
      "us_wsj\n"
     ]
    }
   ],
   "source": [
    "driver = webdriver.Chrome(executable_path=r'C:\\Users\\drr19\\Desktop\\chromedriver.exe')\n",
    "\n",
    "for company in my_companies:\n",
    "    StockTracker_15(company, driver)"
   ]
  }
 ],
 "metadata": {
  "kernelspec": {
   "display_name": "Python 3",
   "language": "python",
   "name": "python3"
  },
  "language_info": {
   "codemirror_mode": {
    "name": "ipython",
    "version": 3
   },
   "file_extension": ".py",
   "mimetype": "text/x-python",
   "name": "python",
   "nbconvert_exporter": "python",
   "pygments_lexer": "ipython3",
   "version": "3.7.4"
  }
 },
 "nbformat": 4,
 "nbformat_minor": 2
}
